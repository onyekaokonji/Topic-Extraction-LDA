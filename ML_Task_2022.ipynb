{
  "nbformat": 4,
  "nbformat_minor": 0,
  "metadata": {
    "colab": {
      "name": "ML Task 2022.ipynb",
      "provenance": [],
      "collapsed_sections": []
    },
    "kernelspec": {
      "name": "python3",
      "display_name": "Python 3"
    },
    "language_info": {
      "name": "python"
    }
  },
  "cells": [
    {
      "cell_type": "code",
      "execution_count": null,
      "metadata": {
        "id": "HRzdVISugBB7"
      },
      "outputs": [],
      "source": [
        "import warnings\n",
        "warnings.filterwarnings(\"ignore\",category=DeprecationWarning)"
      ]
    },
    {
      "cell_type": "markdown",
      "source": [
        "### Imports"
      ],
      "metadata": {
        "id": "CNw80z2oVcND"
      }
    },
    {
      "cell_type": "code",
      "source": [
        "# imports\n",
        "import pandas as pd\n",
        "import numpy as np\n",
        "import matplotlib.pyplot as plt\n",
        "\n",
        "import nltk\n",
        "from nltk.corpus import stopwords\n",
        "\n",
        "import gensim\n",
        "import gensim.corpora as corpora\n",
        "from gensim.utils import simple_preprocess\n",
        "from gensim.models import CoherenceModel\n",
        "\n",
        "import spacy"
      ],
      "metadata": {
        "id": "w9eiJb43gZ7l"
      },
      "execution_count": null,
      "outputs": []
    },
    {
      "cell_type": "markdown",
      "source": [
        "### Reading data"
      ],
      "metadata": {
        "id": "vjIDK-YQVfiI"
      }
    },
    {
      "cell_type": "code",
      "source": [
        "data = pd.read_excel('Pubmed5k.xlsx')\n",
        "data.head()"
      ],
      "metadata": {
        "colab": {
          "base_uri": "https://localhost:8080/",
          "height": 206
        },
        "id": "gjLxSpfsgZ9v",
        "outputId": "d7144065-6e5e-4344-fa74-2741ed398ae3"
      },
      "execution_count": null,
      "outputs": [
        {
          "output_type": "execute_result",
          "data": {
            "text/plain": [
              "   ArticleID                                              Title  \\\n",
              "0   34153941  Stable Coordination Variability in Overground ...   \n",
              "1   34153942  Weak Hip Strength Increases Dynamic Knee Valgu...   \n",
              "2   34153964  Current and Future Projections of Amyotrophic ...   \n",
              "3   34153968  Disparities between Asian and Non-Asian Thromb...   \n",
              "4   34153978  Maternal Factors Predicting Loss to Follow-Up ...   \n",
              "\n",
              "                                            Abstract  \n",
              "0  Coordination variability (CV) is commonly anal...  \n",
              "1  Clinical Scenario: Dynamic knee valgus (DKV) i...  \n",
              "2  Various methodologies have been reported to as...  \n",
              "3  As outcomes for acute ischemic stroke (AIS) va...  \n",
              "4  Because hearing loss in children can result in...  "
            ],
            "text/html": [
              "\n",
              "  <div id=\"df-fe4ea310-07a5-4613-aa70-21f97de0f740\">\n",
              "    <div class=\"colab-df-container\">\n",
              "      <div>\n",
              "<style scoped>\n",
              "    .dataframe tbody tr th:only-of-type {\n",
              "        vertical-align: middle;\n",
              "    }\n",
              "\n",
              "    .dataframe tbody tr th {\n",
              "        vertical-align: top;\n",
              "    }\n",
              "\n",
              "    .dataframe thead th {\n",
              "        text-align: right;\n",
              "    }\n",
              "</style>\n",
              "<table border=\"1\" class=\"dataframe\">\n",
              "  <thead>\n",
              "    <tr style=\"text-align: right;\">\n",
              "      <th></th>\n",
              "      <th>ArticleID</th>\n",
              "      <th>Title</th>\n",
              "      <th>Abstract</th>\n",
              "    </tr>\n",
              "  </thead>\n",
              "  <tbody>\n",
              "    <tr>\n",
              "      <th>0</th>\n",
              "      <td>34153941</td>\n",
              "      <td>Stable Coordination Variability in Overground ...</td>\n",
              "      <td>Coordination variability (CV) is commonly anal...</td>\n",
              "    </tr>\n",
              "    <tr>\n",
              "      <th>1</th>\n",
              "      <td>34153942</td>\n",
              "      <td>Weak Hip Strength Increases Dynamic Knee Valgu...</td>\n",
              "      <td>Clinical Scenario: Dynamic knee valgus (DKV) i...</td>\n",
              "    </tr>\n",
              "    <tr>\n",
              "      <th>2</th>\n",
              "      <td>34153964</td>\n",
              "      <td>Current and Future Projections of Amyotrophic ...</td>\n",
              "      <td>Various methodologies have been reported to as...</td>\n",
              "    </tr>\n",
              "    <tr>\n",
              "      <th>3</th>\n",
              "      <td>34153968</td>\n",
              "      <td>Disparities between Asian and Non-Asian Thromb...</td>\n",
              "      <td>As outcomes for acute ischemic stroke (AIS) va...</td>\n",
              "    </tr>\n",
              "    <tr>\n",
              "      <th>4</th>\n",
              "      <td>34153978</td>\n",
              "      <td>Maternal Factors Predicting Loss to Follow-Up ...</td>\n",
              "      <td>Because hearing loss in children can result in...</td>\n",
              "    </tr>\n",
              "  </tbody>\n",
              "</table>\n",
              "</div>\n",
              "      <button class=\"colab-df-convert\" onclick=\"convertToInteractive('df-fe4ea310-07a5-4613-aa70-21f97de0f740')\"\n",
              "              title=\"Convert this dataframe to an interactive table.\"\n",
              "              style=\"display:none;\">\n",
              "        \n",
              "  <svg xmlns=\"http://www.w3.org/2000/svg\" height=\"24px\"viewBox=\"0 0 24 24\"\n",
              "       width=\"24px\">\n",
              "    <path d=\"M0 0h24v24H0V0z\" fill=\"none\"/>\n",
              "    <path d=\"M18.56 5.44l.94 2.06.94-2.06 2.06-.94-2.06-.94-.94-2.06-.94 2.06-2.06.94zm-11 1L8.5 8.5l.94-2.06 2.06-.94-2.06-.94L8.5 2.5l-.94 2.06-2.06.94zm10 10l.94 2.06.94-2.06 2.06-.94-2.06-.94-.94-2.06-.94 2.06-2.06.94z\"/><path d=\"M17.41 7.96l-1.37-1.37c-.4-.4-.92-.59-1.43-.59-.52 0-1.04.2-1.43.59L10.3 9.45l-7.72 7.72c-.78.78-.78 2.05 0 2.83L4 21.41c.39.39.9.59 1.41.59.51 0 1.02-.2 1.41-.59l7.78-7.78 2.81-2.81c.8-.78.8-2.07 0-2.86zM5.41 20L4 18.59l7.72-7.72 1.47 1.35L5.41 20z\"/>\n",
              "  </svg>\n",
              "      </button>\n",
              "      \n",
              "  <style>\n",
              "    .colab-df-container {\n",
              "      display:flex;\n",
              "      flex-wrap:wrap;\n",
              "      gap: 12px;\n",
              "    }\n",
              "\n",
              "    .colab-df-convert {\n",
              "      background-color: #E8F0FE;\n",
              "      border: none;\n",
              "      border-radius: 50%;\n",
              "      cursor: pointer;\n",
              "      display: none;\n",
              "      fill: #1967D2;\n",
              "      height: 32px;\n",
              "      padding: 0 0 0 0;\n",
              "      width: 32px;\n",
              "    }\n",
              "\n",
              "    .colab-df-convert:hover {\n",
              "      background-color: #E2EBFA;\n",
              "      box-shadow: 0px 1px 2px rgba(60, 64, 67, 0.3), 0px 1px 3px 1px rgba(60, 64, 67, 0.15);\n",
              "      fill: #174EA6;\n",
              "    }\n",
              "\n",
              "    [theme=dark] .colab-df-convert {\n",
              "      background-color: #3B4455;\n",
              "      fill: #D2E3FC;\n",
              "    }\n",
              "\n",
              "    [theme=dark] .colab-df-convert:hover {\n",
              "      background-color: #434B5C;\n",
              "      box-shadow: 0px 1px 3px 1px rgba(0, 0, 0, 0.15);\n",
              "      filter: drop-shadow(0px 1px 2px rgba(0, 0, 0, 0.3));\n",
              "      fill: #FFFFFF;\n",
              "    }\n",
              "  </style>\n",
              "\n",
              "      <script>\n",
              "        const buttonEl =\n",
              "          document.querySelector('#df-fe4ea310-07a5-4613-aa70-21f97de0f740 button.colab-df-convert');\n",
              "        buttonEl.style.display =\n",
              "          google.colab.kernel.accessAllowed ? 'block' : 'none';\n",
              "\n",
              "        async function convertToInteractive(key) {\n",
              "          const element = document.querySelector('#df-fe4ea310-07a5-4613-aa70-21f97de0f740');\n",
              "          const dataTable =\n",
              "            await google.colab.kernel.invokeFunction('convertToInteractive',\n",
              "                                                     [key], {});\n",
              "          if (!dataTable) return;\n",
              "\n",
              "          const docLinkHtml = 'Like what you see? Visit the ' +\n",
              "            '<a target=\"_blank\" href=https://colab.research.google.com/notebooks/data_table.ipynb>data table notebook</a>'\n",
              "            + ' to learn more about interactive tables.';\n",
              "          element.innerHTML = '';\n",
              "          dataTable['output_type'] = 'display_data';\n",
              "          await google.colab.output.renderOutput(dataTable, element);\n",
              "          const docLink = document.createElement('div');\n",
              "          docLink.innerHTML = docLinkHtml;\n",
              "          element.appendChild(docLink);\n",
              "        }\n",
              "      </script>\n",
              "    </div>\n",
              "  </div>\n",
              "  "
            ]
          },
          "metadata": {},
          "execution_count": 3
        }
      ]
    },
    {
      "cell_type": "code",
      "source": [
        "data.isnull().sum()"
      ],
      "metadata": {
        "colab": {
          "base_uri": "https://localhost:8080/"
        },
        "id": "4_-f-YTWgaAL",
        "outputId": "790598e5-1fb9-4edf-ffd1-c0c9fbdbd26f"
      },
      "execution_count": null,
      "outputs": [
        {
          "output_type": "execute_result",
          "data": {
            "text/plain": [
              "ArticleID    0\n",
              "Title        0\n",
              "Abstract     0\n",
              "dtype: int64"
            ]
          },
          "metadata": {},
          "execution_count": 4
        }
      ]
    },
    {
      "cell_type": "code",
      "source": [
        "#nltk.download('wordnet')\n",
        "#nltk.download('omw-1.4')\n",
        "nltk.download('stopwords')"
      ],
      "metadata": {
        "colab": {
          "base_uri": "https://localhost:8080/"
        },
        "id": "Hk54CVX6tPQU",
        "outputId": "48d42ca1-1db8-4583-838a-4093c3284a6c"
      },
      "execution_count": null,
      "outputs": [
        {
          "output_type": "stream",
          "name": "stdout",
          "text": [
            "[nltk_data] Downloading package stopwords to /root/nltk_data...\n",
            "[nltk_data]   Unzipping corpora/stopwords.zip.\n"
          ]
        },
        {
          "output_type": "execute_result",
          "data": {
            "text/plain": [
              "True"
            ]
          },
          "metadata": {},
          "execution_count": 5
        }
      ]
    },
    {
      "cell_type": "code",
      "source": [
        "stop_words = stopwords.words('english')"
      ],
      "metadata": {
        "id": "quykHSldgaDF"
      },
      "execution_count": null,
      "outputs": []
    },
    {
      "cell_type": "code",
      "source": [
        "nlp = spacy.load('en', disable = ['parser', 'ner'])"
      ],
      "metadata": {
        "id": "3QbjkdXOrS9P"
      },
      "execution_count": null,
      "outputs": []
    },
    {
      "cell_type": "markdown",
      "source": [
        "### Data Preprocessing\n",
        "\n",
        "\n",
        "*   Firstly we tokenize the data we are working on to make it easier for the model to make sense of.\n",
        "*   Secondly, we remove stopwords as they have little to no meaning and benefit to our model.\n",
        "\n",
        "\n",
        "*   We create bigrams and trigrams towards helping the model understand possibile terminologies.\n",
        "*   We perform lemmatization on the data towards obtaining the root words of the data we have.\n",
        "\n",
        "\n",
        "*   Finally, we create a bag of words dictionary stating the words we have and their frequencies in the data.\n",
        "\n",
        "\n",
        "\n",
        "\n",
        "\n"
      ],
      "metadata": {
        "id": "i7HQdUHRVjYp"
      }
    },
    {
      "cell_type": "code",
      "source": [
        "# before tokenization\n",
        "data['Abstract'].unique()[:1]"
      ],
      "metadata": {
        "colab": {
          "base_uri": "https://localhost:8080/"
        },
        "id": "ZKVhUTVNxFh3",
        "outputId": "9317ae29-6a35-41ce-a336-783a5ca2d8f0"
      },
      "execution_count": null,
      "outputs": [
        {
          "output_type": "execute_result",
          "data": {
            "text/plain": [
              "array(['Coordination variability (CV) is commonly analyzed to understand dynamical qualities of human locomotion. The purpose of this study was to develop guidelines for the number of trials required to inform the calculation of a stable mean lower limb CV during overground locomotion. Three-dimensional lower limb kinematics were captured for 10 recreational runners performing 20 trials each of preferred and fixed speed walking and running. Stance phase CV was calculated for 9 segment and joint couplings using a modified vector coding technique. The number of trials required to achieve a CV mean within 10% of 20 strides average was determined for each coupling and individual. The statistical outputs of mode (walking vs running) and speed (preferred vs fixed) were compared when informed by differing numbers of trials. A minimum of 11 trials were required for stable mean stance phase CV. With fewer than 11 trials, CV was underestimated and led to an oversight of significant differences between mode and speed. Future overground locomotion CV research in healthy populations using a vector coding approach should use 11 trials as a standard minimum. Researchers should be aware of the notable consequences of an insufficient number of trials for overall study findings.'],\n",
              "      dtype=object)"
            ]
          },
          "metadata": {},
          "execution_count": 8
        }
      ]
    },
    {
      "cell_type": "code",
      "source": [
        "# after tokenization\n",
        "\n",
        "def tokens(sentences):\n",
        "  for sentence in sentences:\n",
        "    yield(simple_preprocess(str(sentence)))\n",
        "\n",
        "token = list(tokens(data['Abstract']))\n",
        "\n",
        "print(token[:1])"
      ],
      "metadata": {
        "colab": {
          "base_uri": "https://localhost:8080/"
        },
        "id": "wpbvxGNNgaFV",
        "outputId": "16993ac8-5445-4b7c-c864-c2b898b759aa"
      },
      "execution_count": null,
      "outputs": [
        {
          "output_type": "stream",
          "name": "stdout",
          "text": [
            "[['coordination', 'variability', 'cv', 'is', 'commonly', 'analyzed', 'to', 'understand', 'dynamical', 'qualities', 'of', 'human', 'locomotion', 'the', 'purpose', 'of', 'this', 'study', 'was', 'to', 'develop', 'guidelines', 'for', 'the', 'number', 'of', 'trials', 'required', 'to', 'inform', 'the', 'calculation', 'of', 'stable', 'mean', 'lower', 'limb', 'cv', 'during', 'overground', 'locomotion', 'three', 'dimensional', 'lower', 'limb', 'kinematics', 'were', 'captured', 'for', 'recreational', 'runners', 'performing', 'trials', 'each', 'of', 'preferred', 'and', 'fixed', 'speed', 'walking', 'and', 'running', 'stance', 'phase', 'cv', 'was', 'calculated', 'for', 'segment', 'and', 'joint', 'couplings', 'using', 'modified', 'vector', 'coding', 'technique', 'the', 'number', 'of', 'trials', 'required', 'to', 'achieve', 'cv', 'mean', 'within', 'of', 'strides', 'average', 'was', 'determined', 'for', 'each', 'coupling', 'and', 'individual', 'the', 'statistical', 'outputs', 'of', 'mode', 'walking', 'vs', 'running', 'and', 'speed', 'preferred', 'vs', 'fixed', 'were', 'compared', 'when', 'informed', 'by', 'differing', 'numbers', 'of', 'trials', 'minimum', 'of', 'trials', 'were', 'required', 'for', 'stable', 'mean', 'stance', 'phase', 'cv', 'with', 'fewer', 'than', 'trials', 'cv', 'was', 'underestimated', 'and', 'led', 'to', 'an', 'oversight', 'of', 'significant', 'differences', 'between', 'mode', 'and', 'speed', 'future', 'overground', 'locomotion', 'cv', 'research', 'in', 'healthy', 'populations', 'using', 'vector', 'coding', 'approach', 'should', 'use', 'trials', 'as', 'standard', 'minimum', 'researchers', 'should', 'be', 'aware', 'of', 'the', 'notable', 'consequences', 'of', 'an', 'insufficient', 'number', 'of', 'trials', 'for', 'overall', 'study', 'findings']]\n"
          ]
        }
      ]
    },
    {
      "cell_type": "code",
      "source": [
        "# removing stopwords\n",
        "\n",
        "def remove_stopwords(text):\n",
        "  return [[word for word in simple_preprocess(str(doc)) if word not in stop_words] for doc in text]"
      ],
      "metadata": {
        "id": "ZsAbTIh_gaH4"
      },
      "execution_count": null,
      "outputs": []
    },
    {
      "cell_type": "code",
      "source": [
        "# Build the bigram and trigram models\n",
        "\n",
        "bigram = gensim.models.Phrases(token, min_count=5, threshold=100) # higher threshold fewer phrases.\n",
        "trigram = gensim.models.Phrases(bigram[token], threshold=100)  \n",
        "\n",
        "# Faster way to get a sentence clubbed as a trigram/bigram\n",
        "bigram_mod = gensim.models.phrases.Phraser(bigram)\n",
        "trigram_mod = gensim.models.phrases.Phraser(trigram)\n",
        "\n",
        "def make_bigram(text):\n",
        "  return [bigram_mod[doc] for doc in text]\n",
        "\n",
        "\n",
        "def make_trigram(text):\n",
        "  return [trigram_mod[bigram_mod[doc]] for doc in text]"
      ],
      "metadata": {
        "colab": {
          "base_uri": "https://localhost:8080/"
        },
        "id": "9h4d8NfSbQf8",
        "outputId": "a4d59218-f939-4235-dc77-990c11ceb084"
      },
      "execution_count": null,
      "outputs": [
        {
          "output_type": "stream",
          "name": "stderr",
          "text": [
            "/usr/local/lib/python3.7/dist-packages/gensim/models/phrases.py:598: UserWarning: For a faster implementation, use the gensim.models.phrases.Phraser class\n",
            "  warnings.warn(\"For a faster implementation, use the gensim.models.phrases.Phraser class\")\n"
          ]
        }
      ]
    },
    {
      "cell_type": "code",
      "source": [
        "# Lemmatization\n",
        "\n",
        "def lemmatization(text):\n",
        "    texts_out = []\n",
        "    for sent in text:\n",
        "        doc = nlp(\" \".join(sent)) \n",
        "        texts_out.append([token.lemma_ for token in doc])\n",
        "    return texts_out"
      ],
      "metadata": {
        "id": "8EXnWo0LpbhN"
      },
      "execution_count": null,
      "outputs": []
    },
    {
      "cell_type": "code",
      "source": [
        "# Processing workflow\n",
        "\n",
        "# Remove Stop Words\n",
        "t = remove_stopwords(token)\n",
        "\n",
        "# Form Bigrams\n",
        "t_bigrams = make_bigram(t)\n",
        "\n",
        "# Form Trigrams\n",
        "t_trigrams = make_trigram(t_bigrams)\n",
        "\n",
        "# Do lemmatization keeping only noun, adj, vb, adv\n",
        "t_lemmatized = lemmatization(t_trigrams)\n",
        "\n",
        "# print output\n",
        "print(t_lemmatized[:1])"
      ],
      "metadata": {
        "colab": {
          "base_uri": "https://localhost:8080/"
        },
        "id": "bJ4QLYwigaKW",
        "outputId": "4f113e3e-e5f2-4420-c0e4-15bf45b8f301"
      },
      "execution_count": null,
      "outputs": [
        {
          "output_type": "stream",
          "name": "stdout",
          "text": [
            "[['coordination', 'variability', 'cv', 'commonly', 'analyze', 'understand', 'dynamical', 'quality', 'human', 'locomotion', 'purpose', 'study', 'develop', 'guideline', 'number', 'trial', 'require', 'inform', 'calculation', 'stable', 'mean', 'lower_limb', 'cv', 'overground', 'locomotion', 'three_dimensional', 'lower_limb', 'kinematic', 'capture', 'recreational', 'runner', 'perform', 'trial', 'prefer', 'fix', 'speed', 'walk', 'run', 'stance', 'phase', 'cv', 'calculated', 'segment', 'joint', 'coupling', 'use', 'modify', 'vector', 'coding', 'technique', 'number', 'trial', 'require', 'achieve', 'cv', 'mean', 'within', 'stride', 'average', 'determine', 'couple', 'individual', 'statistical', 'output', 'mode', 'walk', 'vs', 'run', 'speed', 'prefer', 'vs', 'fix', 'compare', 'inform', 'differ', 'number', 'trial', 'minimum', 'trial', 'require', 'stable', 'mean', 'stance', 'phase', 'cv', 'few', 'trial', 'cv', 'underestimate', 'lead', 'oversight', 'significant', 'difference', 'mode', 'speed', 'future', 'overground', 'locomotion', 'cv', 'research', 'healthy', 'population', 'use', 'vector', 'code', 'approach', 'use', 'trial', 'standard', 'minimum', 'researcher', 'aware', 'notable', 'consequence', 'insufficient', 'number', 'trial', 'overall', 'study', 'finding']]\n"
          ]
        }
      ]
    },
    {
      "cell_type": "code",
      "source": [
        "# creating bag-of-words\n",
        "\n",
        "dictionary = corpora.Dictionary(t_lemmatized)\n",
        "texts = t_lemmatized\n",
        "corpus = [dictionary.doc2bow(text) for text in texts]\n",
        "\n",
        "print(corpus[:1])"
      ],
      "metadata": {
        "colab": {
          "base_uri": "https://localhost:8080/"
        },
        "id": "r_hvY4kwgaNG",
        "outputId": "96e790da-43a0-40de-bb57-ac09f524a5b9"
      },
      "execution_count": null,
      "outputs": [
        {
          "output_type": "stream",
          "name": "stdout",
          "text": [
            "[[(0, 1), (1, 1), (2, 1), (3, 1), (4, 1), (5, 1), (6, 1), (7, 1), (8, 1), (9, 1), (10, 1), (11, 1), (12, 1), (13, 1), (14, 1), (15, 1), (16, 7), (17, 1), (18, 1), (19, 1), (20, 1), (21, 1), (22, 1), (23, 1), (24, 2), (25, 1), (26, 1), (27, 1), (28, 1), (29, 1), (30, 2), (31, 1), (32, 1), (33, 1), (34, 1), (35, 3), (36, 2), (37, 3), (38, 2), (39, 2), (40, 1), (41, 1), (42, 4), (43, 1), (44, 1), (45, 2), (46, 1), (47, 1), (48, 2), (49, 1), (50, 2), (51, 1), (52, 1), (53, 1), (54, 3), (55, 1), (56, 1), (57, 2), (58, 1), (59, 1), (60, 1), (61, 3), (62, 2), (63, 2), (64, 1), (65, 1), (66, 1), (67, 2), (68, 1), (69, 1), (70, 8), (71, 1), (72, 1), (73, 3), (74, 1), (75, 2), (76, 2), (77, 2), (78, 1)]]\n"
          ]
        }
      ]
    },
    {
      "cell_type": "code",
      "source": [
        "# priting words against their frequencies\n",
        "\n",
        "[[(dictionary[id], freq) for id, freq in cp] for cp in corpus[:1]]"
      ],
      "metadata": {
        "colab": {
          "base_uri": "https://localhost:8080/"
        },
        "id": "so_3aaUUgaPY",
        "outputId": "a4dfd606-62d0-4271-a4ff-2127c80d074f"
      },
      "execution_count": null,
      "outputs": [
        {
          "output_type": "execute_result",
          "data": {
            "text/plain": [
              "[[('achieve', 1),\n",
              "  ('analyze', 1),\n",
              "  ('approach', 1),\n",
              "  ('average', 1),\n",
              "  ('aware', 1),\n",
              "  ('calculated', 1),\n",
              "  ('calculation', 1),\n",
              "  ('capture', 1),\n",
              "  ('code', 1),\n",
              "  ('coding', 1),\n",
              "  ('commonly', 1),\n",
              "  ('compare', 1),\n",
              "  ('consequence', 1),\n",
              "  ('coordination', 1),\n",
              "  ('couple', 1),\n",
              "  ('coupling', 1),\n",
              "  ('cv', 7),\n",
              "  ('determine', 1),\n",
              "  ('develop', 1),\n",
              "  ('differ', 1),\n",
              "  ('difference', 1),\n",
              "  ('dynamical', 1),\n",
              "  ('few', 1),\n",
              "  ('finding', 1),\n",
              "  ('fix', 2),\n",
              "  ('future', 1),\n",
              "  ('guideline', 1),\n",
              "  ('healthy', 1),\n",
              "  ('human', 1),\n",
              "  ('individual', 1),\n",
              "  ('inform', 2),\n",
              "  ('insufficient', 1),\n",
              "  ('joint', 1),\n",
              "  ('kinematic', 1),\n",
              "  ('lead', 1),\n",
              "  ('locomotion', 3),\n",
              "  ('lower_limb', 2),\n",
              "  ('mean', 3),\n",
              "  ('minimum', 2),\n",
              "  ('mode', 2),\n",
              "  ('modify', 1),\n",
              "  ('notable', 1),\n",
              "  ('number', 4),\n",
              "  ('output', 1),\n",
              "  ('overall', 1),\n",
              "  ('overground', 2),\n",
              "  ('oversight', 1),\n",
              "  ('perform', 1),\n",
              "  ('phase', 2),\n",
              "  ('population', 1),\n",
              "  ('prefer', 2),\n",
              "  ('purpose', 1),\n",
              "  ('quality', 1),\n",
              "  ('recreational', 1),\n",
              "  ('require', 3),\n",
              "  ('research', 1),\n",
              "  ('researcher', 1),\n",
              "  ('run', 2),\n",
              "  ('runner', 1),\n",
              "  ('segment', 1),\n",
              "  ('significant', 1),\n",
              "  ('speed', 3),\n",
              "  ('stable', 2),\n",
              "  ('stance', 2),\n",
              "  ('standard', 1),\n",
              "  ('statistical', 1),\n",
              "  ('stride', 1),\n",
              "  ('study', 2),\n",
              "  ('technique', 1),\n",
              "  ('three_dimensional', 1),\n",
              "  ('trial', 8),\n",
              "  ('underestimate', 1),\n",
              "  ('understand', 1),\n",
              "  ('use', 3),\n",
              "  ('variability', 1),\n",
              "  ('vector', 2),\n",
              "  ('vs', 2),\n",
              "  ('walk', 2),\n",
              "  ('within', 1)]]"
            ]
          },
          "metadata": {},
          "execution_count": 15
        }
      ]
    },
    {
      "cell_type": "markdown",
      "source": [
        "### Building and training the LDA model"
      ],
      "metadata": {
        "id": "WZCVC0uNWYc5"
      }
    },
    {
      "cell_type": "code",
      "source": [
        "# Build LDA model\n",
        "lda_model = gensim.models.ldamodel.LdaModel(corpus=corpus,\n",
        "                                           id2word=dictionary,\n",
        "                                           num_topics=5, \n",
        "                                           random_state=100,\n",
        "                                           update_every=1,\n",
        "                                           chunksize=100,\n",
        "                                           passes=10,\n",
        "                                           alpha='auto',\n",
        "                                           per_word_topics=True)"
      ],
      "metadata": {
        "id": "8DX1cZrzgaSY"
      },
      "execution_count": null,
      "outputs": []
    },
    {
      "cell_type": "code",
      "source": [
        "lda_model.print_topics()"
      ],
      "metadata": {
        "colab": {
          "base_uri": "https://localhost:8080/"
        },
        "id": "BorWJFvigaUv",
        "outputId": "a59f755f-3399-453f-cb74-d800bfbf2ed7"
      },
      "execution_count": null,
      "outputs": [
        {
          "output_type": "execute_result",
          "data": {
            "text/plain": [
              "[(0,\n",
              "  '0.009*\"specie\" + 0.008*\"water\" + 0.005*\"high\" + 0.005*\"new\" + 0.005*\"use\" + 0.005*\"plant\" + 0.004*\"surface\" + 0.004*\"two\" + 0.004*\"study\" + 0.003*\"base\"'),\n",
              " (1,\n",
              "  '0.014*\"use\" + 0.008*\"model\" + 0.007*\"result\" + 0.007*\"base\" + 0.006*\"study\" + 0.005*\"method\" + 0.005*\"datum\" + 0.005*\"provide\" + 0.005*\"research\" + 0.004*\"system\"'),\n",
              " (2,\n",
              "  '0.016*\"cell\" + 0.010*\"protein\" + 0.007*\"effect\" + 0.007*\"gene\" + 0.007*\"study\" + 0.006*\"level\" + 0.006*\"increase\" + 0.005*\"expression\" + 0.005*\"show\" + 0.005*\"human\"'),\n",
              " (3,\n",
              "  '0.021*\"study\" + 0.011*\"health\" + 0.010*\"risk\" + 0.010*\"patient\" + 0.009*\"use\" + 0.007*\"high\" + 0.007*\"among\" + 0.007*\"age\" + 0.006*\"care\" + 0.006*\"intervention\"'),\n",
              " (4,\n",
              "  '0.033*\"patient\" + 0.011*\"treatment\" + 0.011*\"group\" + 0.008*\"clinical\" + 0.006*\"case\" + 0.005*\"study\" + 0.005*\"follow\" + 0.005*\"compare\" + 0.005*\"year\" + 0.005*\"perform\"')]"
            ]
          },
          "metadata": {},
          "execution_count": 17
        }
      ]
    },
    {
      "cell_type": "markdown",
      "source": [
        "### Runing performance checks"
      ],
      "metadata": {
        "id": "FiKY1nE8WgXS"
      }
    },
    {
      "cell_type": "code",
      "source": [
        "# Compute Perplexity\n",
        "print('\\nPerplexity: ', lda_model.log_perplexity(corpus))  # a measure of how good the model is. lower the better.\n",
        "\n",
        "# Compute Coherence Score\n",
        "coherence_model_lda = CoherenceModel(model = lda_model, texts = t_lemmatized, dictionary = dictionary, coherence = 'c_v')\n",
        "coherence_lda = coherence_model_lda.get_coherence()\n",
        "print('\\nCoherence Score: ', coherence_lda)"
      ],
      "metadata": {
        "colab": {
          "base_uri": "https://localhost:8080/"
        },
        "id": "Y1UI7hhWgaXL",
        "outputId": "4ff0d753-067e-4367-e0ef-cd3a5cb9d8fc"
      },
      "execution_count": null,
      "outputs": [
        {
          "output_type": "stream",
          "name": "stdout",
          "text": [
            "\n",
            "Perplexity:  -8.603348581898551\n",
            "\n",
            "Coherence Score:  0.43806310535897997\n"
          ]
        }
      ]
    },
    {
      "cell_type": "markdown",
      "source": [
        "### Having run performance checks, let's try to improve performance by tweaking the choice of number of topics to detect"
      ],
      "metadata": {
        "id": "w5x6hAkeWjRF"
      }
    },
    {
      "cell_type": "code",
      "source": [
        "def compute_coherence_values(dictionary, corpus, texts, limit, start=1, step=5):\n",
        "    \n",
        "    coherence_values = []\n",
        "    model_list = []\n",
        "    for num_topics in range(start, limit, step):\n",
        "        model = gensim.models.ldamodel.LdaModel(corpus = corpus, num_topics = num_topics, id2word = dictionary)\n",
        "        model_list.append(model)\n",
        "        coherencemodel = CoherenceModel(model = model, texts = t_lemmatized, dictionary = dictionary, coherence = 'c_v')\n",
        "        coherence_values.append(coherencemodel.get_coherence())\n",
        "\n",
        "    return model_list, coherence_values"
      ],
      "metadata": {
        "id": "g5SQiDucRH7y"
      },
      "execution_count": null,
      "outputs": []
    },
    {
      "cell_type": "code",
      "source": [
        "model_list, coherence_values = compute_coherence_values(dictionary = dictionary, corpus = corpus, texts = t_lemmatized, limit = 100)"
      ],
      "metadata": {
        "colab": {
          "base_uri": "https://localhost:8080/"
        },
        "id": "d1rrPqx7R_rA",
        "outputId": "ba90b176-0ece-4d1a-a0d2-79bbed137c6a"
      },
      "execution_count": null,
      "outputs": [
        {
          "output_type": "stream",
          "name": "stderr",
          "text": [
            "/usr/local/lib/python3.7/dist-packages/gensim/models/ldamodel.py:1023: RuntimeWarning: divide by zero encountered in log\n",
            "  diff = np.log(self.expElogbeta)\n"
          ]
        }
      ]
    },
    {
      "cell_type": "code",
      "source": [
        "limit=100; start=1; step=5;\n",
        "x = range(start, limit, step)\n",
        "plt.plot(x, coherence_values)\n",
        "plt.xlabel(\"Num Topics\")\n",
        "plt.ylabel(\"Coherence score\")\n",
        "plt.legend((\"coherence_values\"), loc='best')\n",
        "plt.show()"
      ],
      "metadata": {
        "colab": {
          "base_uri": "https://localhost:8080/",
          "height": 279
        },
        "id": "d7TrkDaoSbd3",
        "outputId": "d22d778b-4a5c-4bb8-da94-917296717f02"
      },
      "execution_count": null,
      "outputs": [
        {
          "output_type": "display_data",
          "data": {
            "text/plain": [
              "<Figure size 432x288 with 1 Axes>"
            ],
            "image/png": "[encoded data removed]"
          },
          "metadata": {
            "needs_background": "light"
          }
        }
      ]
    },
    {
      "cell_type": "markdown",
      "source": [
        "### Obtaining the top 3 topics per document with their corresponding percentage weight"
      ],
      "metadata": {
        "id": "z7fTwBkgWw6O"
      }
    },
    {
      "cell_type": "code",
      "source": [
        "topics_df1 = pd.DataFrame()\n",
        "topics_df2 = pd.DataFrame()\n",
        "topics_df3 = pd.DataFrame()\n",
        "\n",
        "for i, row_list in enumerate(lda_model[corpus]):\n",
        "  row = row_list[0] if lda_model.per_word_topics else row_list\n",
        "  row = sorted(row, key=lambda x: (x[1]), reverse=True)\n",
        "  for j, (topic_num, prop_topic) in enumerate(row):\n",
        "    if len(row) >= 3:\n",
        "      if j ==0:\n",
        "        wp = lda_model.show_topic(topic_num)\n",
        "        topic_keywords = \",\".join([word for word, prop in wp])\n",
        "        topics_df1 = topics_df1.append(pd.Series([int(topic_num), prop_topic, topic_keywords]), ignore_index=True)\n",
        "      elif j ==1:\n",
        "        wp = lda_model.show_topic(topic_num)\n",
        "        topic_keywords = \",\".join([word for word, prop in wp])\n",
        "        topics_df2 = topics_df2.append(pd.Series([int(topic_num), prop_topic, topic_keywords]), ignore_index=True)\n",
        "      elif j ==2:\n",
        "        wp = lda_model.show_topic(topic_num)\n",
        "        topic_keywords = \",\".join([word for word, prop in wp])\n",
        "        topics_df3 = topics_df3.append(pd.Series([int(topic_num), prop_topic, topic_keywords]), ignore_index=True)\n",
        "      else:\n",
        "        break\n",
        "    elif len(row) == 2:\n",
        "      if j ==0:\n",
        "        wp = lda_model.show_topic(topic_num)\n",
        "        topic_keywords = \",\".join([word for word, prop in wp])\n",
        "        topics_df1 = topics_df1.append(pd.Series([int(topic_num), prop_topic, topic_keywords]), ignore_index=True)\n",
        "      elif j ==1:\n",
        "        wp = lda_model.show_topic(topic_num)\n",
        "        topic_keywords = \",\".join([word for word, prop in wp])\n",
        "        topics_df2 = topics_df2.append(pd.Series([int(topic_num), prop_topic, topic_keywords]), ignore_index=True)\n",
        "        topics_df3 = topics_df3.append(pd.Series(['-', '-']), ignore_index=True)\n",
        "    elif len(row) == 1:\n",
        "      wp = lda_model.show_topic(topic_num)\n",
        "      topic_keywords = \",\".join([word for word, prop in wp])\n",
        "\n",
        "topics_df1 = topics_df1.append(pd.Series([int(topic_num), prop_topic, topic_keywords]), ignore_index=True)\n",
        "topics_df2 = topics_df2.append(pd.Series(['-', '-']), ignore_index=True)  \n",
        "topics_df3 = topics_df3.append(pd.Series(['-', '-']), ignore_index=True)        \n",
        "                \n",
        "            \n",
        "topics_df1.rename(columns={0:'1st Topic', 1:'1st Topic Contribution', 2:'1st Topic Keywords'}, inplace=True)\n",
        "topics_df2.rename(columns={0:'2nd Topic', 1:'2nd Topic Contribution', 2:'2nd Topic Keywords'}, inplace=True)\n",
        "topics_df3.rename(columns={0:'3rd Topic', 1:'3rd Topic Contribution', 2:'3rd Topic Keywords'}, inplace=True)\n",
        "\n",
        "topics_comb = pd.concat([topics_df1, topics_df2, topics_df3],  axis=1, sort=False)\n",
        "final = topics_comb.reset_index()\n",
        "final.columns = ['Document No.', 'First Topic', 'First Topic Contribution', 'First Topic Keywords',\n",
        "                 'Second Topic', 'Second Topic Contribution','Second Topic Keywords',\n",
        "                 'Third Topic', 'Third Topic Contribution', 'Third Topic Keywords']\n",
        "\n",
        "#Join topics dataframe to original data\n",
        "#new_df = pd.concat([data_ready, topics_comb], axis=1, sort=False)"
      ],
      "metadata": {
        "id": "y9kiSiEtgaaj"
      },
      "execution_count": null,
      "outputs": []
    },
    {
      "cell_type": "code",
      "source": [
        "final.head(20)"
      ],
      "metadata": {
        "colab": {
          "base_uri": "https://localhost:8080/",
          "height": 758
        },
        "id": "dyTkhno1gajB",
        "outputId": "6a2aa272-197c-487e-85d8-a0659ede5be7"
      },
      "execution_count": null,
      "outputs": [
        {
          "output_type": "execute_result",
          "data": {
            "text/plain": [
              "    Document No.  First Topic  First Topic Contribution  \\\n",
              "0              0          1.0                  0.727600   \n",
              "1              1          4.0                  0.479152   \n",
              "2              2          3.0                  0.583746   \n",
              "3              3          3.0                  0.627081   \n",
              "4              4          3.0                  0.795915   \n",
              "5              5          3.0                  0.900594   \n",
              "6              6          4.0                  0.362834   \n",
              "7              7          3.0                  0.359023   \n",
              "8              8          1.0                  0.354261   \n",
              "9              9          2.0                  0.280703   \n",
              "10            10          2.0                  0.343568   \n",
              "11            11          2.0                  0.545502   \n",
              "12            12          1.0                  0.393329   \n",
              "13            13          3.0                  0.783768   \n",
              "14            14          4.0                  0.934669   \n",
              "15            15          1.0                  0.854269   \n",
              "16            16          4.0                  0.378072   \n",
              "17            17          3.0                  0.456452   \n",
              "18            18          4.0                  0.594995   \n",
              "19            19          1.0                  0.616120   \n",
              "\n",
              "                                 First Topic Keywords Second Topic  \\\n",
              "0   use,model,result,base,study,method,datum,provi...          4.0   \n",
              "1   patient,treatment,group,clinical,case,study,fo...          3.0   \n",
              "2   study,health,risk,patient,use,high,among,age,c...          1.0   \n",
              "3   study,health,risk,patient,use,high,among,age,c...          4.0   \n",
              "4   study,health,risk,patient,use,high,among,age,c...          1.0   \n",
              "5   study,health,risk,patient,use,high,among,age,c...          1.0   \n",
              "6   patient,treatment,group,clinical,case,study,fo...          1.0   \n",
              "7   study,health,risk,patient,use,high,among,age,c...          2.0   \n",
              "8   use,model,result,base,study,method,datum,provi...          4.0   \n",
              "9   cell,protein,effect,gene,study,level,increase,...          1.0   \n",
              "10  cell,protein,effect,gene,study,level,increase,...          1.0   \n",
              "11  cell,protein,effect,gene,study,level,increase,...          4.0   \n",
              "12  use,model,result,base,study,method,datum,provi...          3.0   \n",
              "13  study,health,risk,patient,use,high,among,age,c...          1.0   \n",
              "14  patient,treatment,group,clinical,case,study,fo...          1.0   \n",
              "15  use,model,result,base,study,method,datum,provi...          3.0   \n",
              "16  patient,treatment,group,clinical,case,study,fo...          0.0   \n",
              "17  study,health,risk,patient,use,high,among,age,c...          4.0   \n",
              "18  patient,treatment,group,clinical,case,study,fo...          3.0   \n",
              "19  use,model,result,base,study,method,datum,provi...          3.0   \n",
              "\n",
              "   Second Topic Contribution  \\\n",
              "0                   0.183292   \n",
              "1                   0.344098   \n",
              "2                   0.318027   \n",
              "3                   0.272767   \n",
              "4                   0.196769   \n",
              "5                   0.092889   \n",
              "6                   0.332787   \n",
              "7                   0.322023   \n",
              "8                   0.291567   \n",
              "9                   0.272363   \n",
              "10                  0.308577   \n",
              "11                  0.336719   \n",
              "12                  0.352322   \n",
              "13                  0.163269   \n",
              "14                  0.037253   \n",
              "15                  0.105776   \n",
              "16                  0.269365   \n",
              "17                  0.390769   \n",
              "18                  0.258922   \n",
              "19                   0.26949   \n",
              "\n",
              "                                Second Topic Keywords Third Topic  \\\n",
              "0   patient,treatment,group,clinical,case,study,fo...         3.0   \n",
              "1   study,health,risk,patient,use,high,among,age,c...         1.0   \n",
              "2   use,model,result,base,study,method,datum,provi...         0.0   \n",
              "3   patient,treatment,group,clinical,case,study,fo...         2.0   \n",
              "4   use,model,result,base,study,method,datum,provi...           -   \n",
              "5   use,model,result,base,study,method,datum,provi...           -   \n",
              "6   use,model,result,base,study,method,datum,provi...           2   \n",
              "7   cell,protein,effect,gene,study,level,increase,...           1   \n",
              "8   patient,treatment,group,clinical,case,study,fo...           2   \n",
              "9   use,model,result,base,study,method,datum,provi...           4   \n",
              "10  use,model,result,base,study,method,datum,provi...           3   \n",
              "11  patient,treatment,group,clinical,case,study,fo...           1   \n",
              "12  study,health,risk,patient,use,high,among,age,c...           2   \n",
              "13  use,model,result,base,study,method,datum,provi...           0   \n",
              "14  use,model,result,base,study,method,datum,provi...           3   \n",
              "15  study,health,risk,patient,use,high,among,age,c...           0   \n",
              "16  specie,water,high,new,use,plant,surface,two,st...           1   \n",
              "17  patient,treatment,group,clinical,case,study,fo...           1   \n",
              "18  study,health,risk,patient,use,high,among,age,c...           1   \n",
              "19  study,health,risk,patient,use,high,among,age,c...           2   \n",
              "\n",
              "   Third Topic Contribution                               Third Topic Keywords  \n",
              "0                  0.050711  study,health,risk,patient,use,high,among,age,c...  \n",
              "1                  0.119657  use,model,result,base,study,method,datum,provi...  \n",
              "2                  0.094127  specie,water,high,new,use,plant,surface,two,st...  \n",
              "3                  0.058678  cell,protein,effect,gene,study,level,increase,...  \n",
              "4                         -                                                NaN  \n",
              "5                         -                                                NaN  \n",
              "6                  0.272752  cell,protein,effect,gene,study,level,increase,...  \n",
              "7                  0.257493  use,model,result,base,study,method,datum,provi...  \n",
              "8                  0.176252  cell,protein,effect,gene,study,level,increase,...  \n",
              "9                  0.191148  patient,treatment,group,clinical,case,study,fo...  \n",
              "10                 0.255926  study,health,risk,patient,use,high,among,age,c...  \n",
              "11                 0.068467  use,model,result,base,study,method,datum,provi...  \n",
              "12                 0.191391  cell,protein,effect,gene,study,level,increase,...  \n",
              "13                 0.044305  specie,water,high,new,use,plant,surface,two,st...  \n",
              "14                 0.021289  study,health,risk,patient,use,high,among,age,c...  \n",
              "15                 0.035112  specie,water,high,new,use,plant,surface,two,st...  \n",
              "16                 0.143842  use,model,result,base,study,method,datum,provi...  \n",
              "17                 0.102153  use,model,result,base,study,method,datum,provi...  \n",
              "18                 0.086905  use,model,result,base,study,method,datum,provi...  \n",
              "19                 0.090979  cell,protein,effect,gene,study,level,increase,...  "
            ],
            "text/html": [
              "\n",
              "  <div id=\"df-f9b94a6e-b72f-4450-8d21-0dd7f74ad340\">\n",
              "    <div class=\"colab-df-container\">\n",
              "      <div>\n",
              "<style scoped>\n",
              "    .dataframe tbody tr th:only-of-type {\n",
              "        vertical-align: middle;\n",
              "    }\n",
              "\n",
              "    .dataframe tbody tr th {\n",
              "        vertical-align: top;\n",
              "    }\n",
              "\n",
              "    .dataframe thead th {\n",
              "        text-align: right;\n",
              "    }\n",
              "</style>\n",
              "<table border=\"1\" class=\"dataframe\">\n",
              "  <thead>\n",
              "    <tr style=\"text-align: right;\">\n",
              "      <th></th>\n",
              "      <th>Document No.</th>\n",
              "      <th>First Topic</th>\n",
              "      <th>First Topic Contribution</th>\n",
              "      <th>First Topic Keywords</th>\n",
              "      <th>Second Topic</th>\n",
              "      <th>Second Topic Contribution</th>\n",
              "      <th>Second Topic Keywords</th>\n",
              "      <th>Third Topic</th>\n",
              "      <th>Third Topic Contribution</th>\n",
              "      <th>Third Topic Keywords</th>\n",
              "    </tr>\n",
              "  </thead>\n",
              "  <tbody>\n",
              "    <tr>\n",
              "      <th>0</th>\n",
              "      <td>0</td>\n",
              "      <td>1.0</td>\n",
              "      <td>0.727600</td>\n",
              "      <td>use,model,result,base,study,method,datum,provi...</td>\n",
              "      <td>4.0</td>\n",
              "      <td>0.183292</td>\n",
              "      <td>patient,treatment,group,clinical,case,study,fo...</td>\n",
              "      <td>3.0</td>\n",
              "      <td>0.050711</td>\n",
              "      <td>study,health,risk,patient,use,high,among,age,c...</td>\n",
              "    </tr>\n",
              "    <tr>\n",
              "      <th>1</th>\n",
              "      <td>1</td>\n",
              "      <td>4.0</td>\n",
              "      <td>0.479152</td>\n",
              "      <td>patient,treatment,group,clinical,case,study,fo...</td>\n",
              "      <td>3.0</td>\n",
              "      <td>0.344098</td>\n",
              "      <td>study,health,risk,patient,use,high,among,age,c...</td>\n",
              "      <td>1.0</td>\n",
              "      <td>0.119657</td>\n",
              "      <td>use,model,result,base,study,method,datum,provi...</td>\n",
              "    </tr>\n",
              "    <tr>\n",
              "      <th>2</th>\n",
              "      <td>2</td>\n",
              "      <td>3.0</td>\n",
              "      <td>0.583746</td>\n",
              "      <td>study,health,risk,patient,use,high,among,age,c...</td>\n",
              "      <td>1.0</td>\n",
              "      <td>0.318027</td>\n",
              "      <td>use,model,result,base,study,method,datum,provi...</td>\n",
              "      <td>0.0</td>\n",
              "      <td>0.094127</td>\n",
              "      <td>specie,water,high,new,use,plant,surface,two,st...</td>\n",
              "    </tr>\n",
              "    <tr>\n",
              "      <th>3</th>\n",
              "      <td>3</td>\n",
              "      <td>3.0</td>\n",
              "      <td>0.627081</td>\n",
              "      <td>study,health,risk,patient,use,high,among,age,c...</td>\n",
              "      <td>4.0</td>\n",
              "      <td>0.272767</td>\n",
              "      <td>patient,treatment,group,clinical,case,study,fo...</td>\n",
              "      <td>2.0</td>\n",
              "      <td>0.058678</td>\n",
              "      <td>cell,protein,effect,gene,study,level,increase,...</td>\n",
              "    </tr>\n",
              "    <tr>\n",
              "      <th>4</th>\n",
              "      <td>4</td>\n",
              "      <td>3.0</td>\n",
              "      <td>0.795915</td>\n",
              "      <td>study,health,risk,patient,use,high,among,age,c...</td>\n",
              "      <td>1.0</td>\n",
              "      <td>0.196769</td>\n",
              "      <td>use,model,result,base,study,method,datum,provi...</td>\n",
              "      <td>-</td>\n",
              "      <td>-</td>\n",
              "      <td>NaN</td>\n",
              "    </tr>\n",
              "    <tr>\n",
              "      <th>5</th>\n",
              "      <td>5</td>\n",
              "      <td>3.0</td>\n",
              "      <td>0.900594</td>\n",
              "      <td>study,health,risk,patient,use,high,among,age,c...</td>\n",
              "      <td>1.0</td>\n",
              "      <td>0.092889</td>\n",
              "      <td>use,model,result,base,study,method,datum,provi...</td>\n",
              "      <td>-</td>\n",
              "      <td>-</td>\n",
              "      <td>NaN</td>\n",
              "    </tr>\n",
              "    <tr>\n",
              "      <th>6</th>\n",
              "      <td>6</td>\n",
              "      <td>4.0</td>\n",
              "      <td>0.362834</td>\n",
              "      <td>patient,treatment,group,clinical,case,study,fo...</td>\n",
              "      <td>1.0</td>\n",
              "      <td>0.332787</td>\n",
              "      <td>use,model,result,base,study,method,datum,provi...</td>\n",
              "      <td>2</td>\n",
              "      <td>0.272752</td>\n",
              "      <td>cell,protein,effect,gene,study,level,increase,...</td>\n",
              "    </tr>\n",
              "    <tr>\n",
              "      <th>7</th>\n",
              "      <td>7</td>\n",
              "      <td>3.0</td>\n",
              "      <td>0.359023</td>\n",
              "      <td>study,health,risk,patient,use,high,among,age,c...</td>\n",
              "      <td>2.0</td>\n",
              "      <td>0.322023</td>\n",
              "      <td>cell,protein,effect,gene,study,level,increase,...</td>\n",
              "      <td>1</td>\n",
              "      <td>0.257493</td>\n",
              "      <td>use,model,result,base,study,method,datum,provi...</td>\n",
              "    </tr>\n",
              "    <tr>\n",
              "      <th>8</th>\n",
              "      <td>8</td>\n",
              "      <td>1.0</td>\n",
              "      <td>0.354261</td>\n",
              "      <td>use,model,result,base,study,method,datum,provi...</td>\n",
              "      <td>4.0</td>\n",
              "      <td>0.291567</td>\n",
              "      <td>patient,treatment,group,clinical,case,study,fo...</td>\n",
              "      <td>2</td>\n",
              "      <td>0.176252</td>\n",
              "      <td>cell,protein,effect,gene,study,level,increase,...</td>\n",
              "    </tr>\n",
              "    <tr>\n",
              "      <th>9</th>\n",
              "      <td>9</td>\n",
              "      <td>2.0</td>\n",
              "      <td>0.280703</td>\n",
              "      <td>cell,protein,effect,gene,study,level,increase,...</td>\n",
              "      <td>1.0</td>\n",
              "      <td>0.272363</td>\n",
              "      <td>use,model,result,base,study,method,datum,provi...</td>\n",
              "      <td>4</td>\n",
              "      <td>0.191148</td>\n",
              "      <td>patient,treatment,group,clinical,case,study,fo...</td>\n",
              "    </tr>\n",
              "    <tr>\n",
              "      <th>10</th>\n",
              "      <td>10</td>\n",
              "      <td>2.0</td>\n",
              "      <td>0.343568</td>\n",
              "      <td>cell,protein,effect,gene,study,level,increase,...</td>\n",
              "      <td>1.0</td>\n",
              "      <td>0.308577</td>\n",
              "      <td>use,model,result,base,study,method,datum,provi...</td>\n",
              "      <td>3</td>\n",
              "      <td>0.255926</td>\n",
              "      <td>study,health,risk,patient,use,high,among,age,c...</td>\n",
              "    </tr>\n",
              "    <tr>\n",
              "      <th>11</th>\n",
              "      <td>11</td>\n",
              "      <td>2.0</td>\n",
              "      <td>0.545502</td>\n",
              "      <td>cell,protein,effect,gene,study,level,increase,...</td>\n",
              "      <td>4.0</td>\n",
              "      <td>0.336719</td>\n",
              "      <td>patient,treatment,group,clinical,case,study,fo...</td>\n",
              "      <td>1</td>\n",
              "      <td>0.068467</td>\n",
              "      <td>use,model,result,base,study,method,datum,provi...</td>\n",
              "    </tr>\n",
              "    <tr>\n",
              "      <th>12</th>\n",
              "      <td>12</td>\n",
              "      <td>1.0</td>\n",
              "      <td>0.393329</td>\n",
              "      <td>use,model,result,base,study,method,datum,provi...</td>\n",
              "      <td>3.0</td>\n",
              "      <td>0.352322</td>\n",
              "      <td>study,health,risk,patient,use,high,among,age,c...</td>\n",
              "      <td>2</td>\n",
              "      <td>0.191391</td>\n",
              "      <td>cell,protein,effect,gene,study,level,increase,...</td>\n",
              "    </tr>\n",
              "    <tr>\n",
              "      <th>13</th>\n",
              "      <td>13</td>\n",
              "      <td>3.0</td>\n",
              "      <td>0.783768</td>\n",
              "      <td>study,health,risk,patient,use,high,among,age,c...</td>\n",
              "      <td>1.0</td>\n",
              "      <td>0.163269</td>\n",
              "      <td>use,model,result,base,study,method,datum,provi...</td>\n",
              "      <td>0</td>\n",
              "      <td>0.044305</td>\n",
              "      <td>specie,water,high,new,use,plant,surface,two,st...</td>\n",
              "    </tr>\n",
              "    <tr>\n",
              "      <th>14</th>\n",
              "      <td>14</td>\n",
              "      <td>4.0</td>\n",
              "      <td>0.934669</td>\n",
              "      <td>patient,treatment,group,clinical,case,study,fo...</td>\n",
              "      <td>1.0</td>\n",
              "      <td>0.037253</td>\n",
              "      <td>use,model,result,base,study,method,datum,provi...</td>\n",
              "      <td>3</td>\n",
              "      <td>0.021289</td>\n",
              "      <td>study,health,risk,patient,use,high,among,age,c...</td>\n",
              "    </tr>\n",
              "    <tr>\n",
              "      <th>15</th>\n",
              "      <td>15</td>\n",
              "      <td>1.0</td>\n",
              "      <td>0.854269</td>\n",
              "      <td>use,model,result,base,study,method,datum,provi...</td>\n",
              "      <td>3.0</td>\n",
              "      <td>0.105776</td>\n",
              "      <td>study,health,risk,patient,use,high,among,age,c...</td>\n",
              "      <td>0</td>\n",
              "      <td>0.035112</td>\n",
              "      <td>specie,water,high,new,use,plant,surface,two,st...</td>\n",
              "    </tr>\n",
              "    <tr>\n",
              "      <th>16</th>\n",
              "      <td>16</td>\n",
              "      <td>4.0</td>\n",
              "      <td>0.378072</td>\n",
              "      <td>patient,treatment,group,clinical,case,study,fo...</td>\n",
              "      <td>0.0</td>\n",
              "      <td>0.269365</td>\n",
              "      <td>specie,water,high,new,use,plant,surface,two,st...</td>\n",
              "      <td>1</td>\n",
              "      <td>0.143842</td>\n",
              "      <td>use,model,result,base,study,method,datum,provi...</td>\n",
              "    </tr>\n",
              "    <tr>\n",
              "      <th>17</th>\n",
              "      <td>17</td>\n",
              "      <td>3.0</td>\n",
              "      <td>0.456452</td>\n",
              "      <td>study,health,risk,patient,use,high,among,age,c...</td>\n",
              "      <td>4.0</td>\n",
              "      <td>0.390769</td>\n",
              "      <td>patient,treatment,group,clinical,case,study,fo...</td>\n",
              "      <td>1</td>\n",
              "      <td>0.102153</td>\n",
              "      <td>use,model,result,base,study,method,datum,provi...</td>\n",
              "    </tr>\n",
              "    <tr>\n",
              "      <th>18</th>\n",
              "      <td>18</td>\n",
              "      <td>4.0</td>\n",
              "      <td>0.594995</td>\n",
              "      <td>patient,treatment,group,clinical,case,study,fo...</td>\n",
              "      <td>3.0</td>\n",
              "      <td>0.258922</td>\n",
              "      <td>study,health,risk,patient,use,high,among,age,c...</td>\n",
              "      <td>1</td>\n",
              "      <td>0.086905</td>\n",
              "      <td>use,model,result,base,study,method,datum,provi...</td>\n",
              "    </tr>\n",
              "    <tr>\n",
              "      <th>19</th>\n",
              "      <td>19</td>\n",
              "      <td>1.0</td>\n",
              "      <td>0.616120</td>\n",
              "      <td>use,model,result,base,study,method,datum,provi...</td>\n",
              "      <td>3.0</td>\n",
              "      <td>0.26949</td>\n",
              "      <td>study,health,risk,patient,use,high,among,age,c...</td>\n",
              "      <td>2</td>\n",
              "      <td>0.090979</td>\n",
              "      <td>cell,protein,effect,gene,study,level,increase,...</td>\n",
              "    </tr>\n",
              "  </tbody>\n",
              "</table>\n",
              "</div>\n",
              "      <button class=\"colab-df-convert\" onclick=\"convertToInteractive('df-f9b94a6e-b72f-4450-8d21-0dd7f74ad340')\"\n",
              "              title=\"Convert this dataframe to an interactive table.\"\n",
              "              style=\"display:none;\">\n",
              "        \n",
              "  <svg xmlns=\"http://www.w3.org/2000/svg\" height=\"24px\"viewBox=\"0 0 24 24\"\n",
              "       width=\"24px\">\n",
              "    <path d=\"M0 0h24v24H0V0z\" fill=\"none\"/>\n",
              "    <path d=\"M18.56 5.44l.94 2.06.94-2.06 2.06-.94-2.06-.94-.94-2.06-.94 2.06-2.06.94zm-11 1L8.5 8.5l.94-2.06 2.06-.94-2.06-.94L8.5 2.5l-.94 2.06-2.06.94zm10 10l.94 2.06.94-2.06 2.06-.94-2.06-.94-.94-2.06-.94 2.06-2.06.94z\"/><path d=\"M17.41 7.96l-1.37-1.37c-.4-.4-.92-.59-1.43-.59-.52 0-1.04.2-1.43.59L10.3 9.45l-7.72 7.72c-.78.78-.78 2.05 0 2.83L4 21.41c.39.39.9.59 1.41.59.51 0 1.02-.2 1.41-.59l7.78-7.78 2.81-2.81c.8-.78.8-2.07 0-2.86zM5.41 20L4 18.59l7.72-7.72 1.47 1.35L5.41 20z\"/>\n",
              "  </svg>\n",
              "      </button>\n",
              "      \n",
              "  <style>\n",
              "    .colab-df-container {\n",
              "      display:flex;\n",
              "      flex-wrap:wrap;\n",
              "      gap: 12px;\n",
              "    }\n",
              "\n",
              "    .colab-df-convert {\n",
              "      background-color: #E8F0FE;\n",
              "      border: none;\n",
              "      border-radius: 50%;\n",
              "      cursor: pointer;\n",
              "      display: none;\n",
              "      fill: #1967D2;\n",
              "      height: 32px;\n",
              "      padding: 0 0 0 0;\n",
              "      width: 32px;\n",
              "    }\n",
              "\n",
              "    .colab-df-convert:hover {\n",
              "      background-color: #E2EBFA;\n",
              "      box-shadow: 0px 1px 2px rgba(60, 64, 67, 0.3), 0px 1px 3px 1px rgba(60, 64, 67, 0.15);\n",
              "      fill: #174EA6;\n",
              "    }\n",
              "\n",
              "    [theme=dark] .colab-df-convert {\n",
              "      background-color: #3B4455;\n",
              "      fill: #D2E3FC;\n",
              "    }\n",
              "\n",
              "    [theme=dark] .colab-df-convert:hover {\n",
              "      background-color: #434B5C;\n",
              "      box-shadow: 0px 1px 3px 1px rgba(0, 0, 0, 0.15);\n",
              "      filter: drop-shadow(0px 1px 2px rgba(0, 0, 0, 0.3));\n",
              "      fill: #FFFFFF;\n",
              "    }\n",
              "  </style>\n",
              "\n",
              "      <script>\n",
              "        const buttonEl =\n",
              "          document.querySelector('#df-f9b94a6e-b72f-4450-8d21-0dd7f74ad340 button.colab-df-convert');\n",
              "        buttonEl.style.display =\n",
              "          google.colab.kernel.accessAllowed ? 'block' : 'none';\n",
              "\n",
              "        async function convertToInteractive(key) {\n",
              "          const element = document.querySelector('#df-f9b94a6e-b72f-4450-8d21-0dd7f74ad340');\n",
              "          const dataTable =\n",
              "            await google.colab.kernel.invokeFunction('convertToInteractive',\n",
              "                                                     [key], {});\n",
              "          if (!dataTable) return;\n",
              "\n",
              "          const docLinkHtml = 'Like what you see? Visit the ' +\n",
              "            '<a target=\"_blank\" href=https://colab.research.google.com/notebooks/data_table.ipynb>data table notebook</a>'\n",
              "            + ' to learn more about interactive tables.';\n",
              "          element.innerHTML = '';\n",
              "          dataTable['output_type'] = 'display_data';\n",
              "          await google.colab.output.renderOutput(dataTable, element);\n",
              "          const docLink = document.createElement('div');\n",
              "          docLink.innerHTML = docLinkHtml;\n",
              "          element.appendChild(docLink);\n",
              "        }\n",
              "      </script>\n",
              "    </div>\n",
              "  </div>\n",
              "  "
            ]
          },
          "metadata": {},
          "execution_count": 23
        }
      ]
    },
    {
      "cell_type": "markdown",
      "source": [
        "### Ways the model can be improved\n",
        "\n",
        "*   Removal of punctuations in data\n",
        "*   Removing very frequent words\n",
        "\n",
        "\n",
        "*   Apply a Part-Of-Speech Tag filter\n",
        "*   Tuning hyperparameters e.g alpha value.\n",
        "\n",
        "\n",
        "\n"
      ],
      "metadata": {
        "id": "l4Ux4zmBc36U"
      }
    }
  ]
}